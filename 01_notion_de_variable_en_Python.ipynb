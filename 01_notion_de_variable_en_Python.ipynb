{
  "nbformat": 4,
  "nbformat_minor": 0,
  "metadata": {
    "colab": {
      "name": "01_notion_de_variable_en_Python.ipynb",
      "provenance": [],
      "authorship_tag": "ABX9TyOKtIFfnFHwuvH0ZqTTDMEE"
    },
    "kernelspec": {
      "name": "python3",
      "display_name": "Python 3"
    },
    "language_info": {
      "name": "python"
    }
  },
  "cells": [
    {
      "cell_type": "markdown",
      "metadata": {
        "id": "kO9VV_6kLv-W"
      },
      "source": [
        "# Notion de variable en Python\n",
        "\n"
      ]
    },
    {
      "cell_type": "code",
      "metadata": {
        "id": "bdHoJ04HLtdT"
      },
      "source": [
        ""
      ],
      "execution_count": null,
      "outputs": []
    },
    {
      "cell_type": "markdown",
      "metadata": {
        "id": "ycgooTLSLud0"
      },
      "source": [
        ""
      ]
    }
  ]
}