{
  "nbformat": 4,
  "nbformat_minor": 0,
  "metadata": {
    "colab": {
      "name": "01_notion_de_variable_en_Python.ipynb",
      "provenance": [],
      "collapsed_sections": [],
      "authorship_tag": "ABX9TyOmz3jO8CkLaD2k8oFXp9o1",
      "include_colab_link": true
    },
    "kernelspec": {
      "name": "python3",
      "display_name": "Python 3"
    },
    "language_info": {
      "name": "python"
    }
  },
  "cells": [
    {
      "cell_type": "markdown",
      "metadata": {
        "id": "view-in-github",
        "colab_type": "text"
      },
      "source": [
        "<a href=\"https://colab.research.google.com/github/jjfPCSI1/notebooks_introduction_python/blob/main/01_notion_de_variable_en_Python.ipynb\" target=\"_parent\"><img src=\"https://colab.research.google.com/assets/colab-badge.svg\" alt=\"Open In Colab\"/></a>"
      ]
    },
    {
      "cell_type": "markdown",
      "metadata": {
        "id": "kO9VV_6kLv-W"
      },
      "source": [
        "# Notion de variable en Python\n",
        "\n",
        "Dans un programme informatique, il est utile de pouvoir assigner une\n",
        "valeur à une variable (par exemple `ma_variable`, c'est-à-dire\n",
        "stocker cette\n",
        "valeur et pouvoir l'utiliser plus tard dans le programme sans avoir à connaître\n",
        "*effectivement* sa valeur. Savoir que l'ordinateur peut retrouver\n",
        "la valeur si on en a besoin suffit à notre bonheur.\n",
        "\n",
        "En Python, l'assignation se fait à l'aide de l'opérateur `=`.\n",
        "L'assignation se fait toujours de la droite *vers* la gauche,\n",
        "c'est-à-dire que la valeur à stocker doit *toujours* être du côté\n",
        "droit du signe égal alors que le nom de la variable dans laquel on veut\n",
        "stocker cette valeur est *toujours* du côté gauche.\n",
        "\n",
        "Contrairement aux égalités que vous avez eu l'habitude de manipuler en\n",
        "mathématiques ou en physique, l'assignation informatique n'est *pas*\n",
        "symétrique et par conséquent, on ne pourra jamais trouver d'expression\n",
        "mathématique (avec des `+`}, des `-`, des `*` ou encore des\n",
        "`/`) du côté gauche d'une assignation, puisqu'elles ne constituent pas\n",
        "\n"
      ]
    },
    {
      "cell_type": "code",
      "metadata": {
        "id": "bdHoJ04HLtdT"
      },
      "source": [
        ""
      ],
      "execution_count": null,
      "outputs": []
    },
    {
      "cell_type": "markdown",
      "metadata": {
        "id": "ycgooTLSLud0"
      },
      "source": [
        ""
      ]
    }
  ]
}