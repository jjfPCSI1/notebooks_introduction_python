{
  "nbformat": 4,
  "nbformat_minor": 0,
  "metadata": {
    "colab": {
      "name": "01_notion_de_variable_en_Python.ipynb",
      "provenance": [],
      "collapsed_sections": [],
      "authorship_tag": "ABX9TyPRIucqOCiaMLvt7Ycw8Q86",
      "include_colab_link": true
    },
    "kernelspec": {
      "name": "python3",
      "display_name": "Python 3"
    },
    "language_info": {
      "name": "python"
    }
  },
  "cells": [
    {
      "cell_type": "markdown",
      "metadata": {
        "id": "view-in-github",
        "colab_type": "text"
      },
      "source": [
        "<a href=\"https://colab.research.google.com/github/jjfPCSI1/notebooks_introduction_python/blob/main/01_notion_de_variable_en_Python.ipynb\" target=\"_parent\"><img src=\"https://colab.research.google.com/assets/colab-badge.svg\" alt=\"Open In Colab\"/></a>"
      ]
    },
    {
      "cell_type": "markdown",
      "metadata": {
        "id": "kO9VV_6kLv-W"
      },
      "source": [
        "# Notion de variable en Python\n",
        "\n",
        "Dans un programme informatique, il est utile de pouvoir assigner une\n",
        "valeur à une variable (par exemple `ma_variable`, c'est-à-dire\n",
        "stocker cette\n",
        "valeur et pouvoir l'utiliser plus tard dans le programme sans avoir à connaître\n",
        "*effectivement* sa valeur. Savoir que l'ordinateur peut retrouver\n",
        "la valeur si on en a besoin suffit à notre bonheur.\n",
        "\n",
        "En Python, l'assignation se fait à l'aide de l'opérateur `=`.\n",
        "L'assignation se fait toujours de la droite *vers* la gauche,\n",
        "c'est-à-dire que la valeur à stocker doit *toujours* être du côté\n",
        "droit du signe égal alors que le nom de la variable dans laquel on veut\n",
        "stocker cette valeur est *toujours* du côté gauche.\n",
        "\n",
        "Contrairement aux égalités que vous avez eu l'habitude de manipuler en\n",
        "mathématiques ou en physique, l'assignation informatique n'est *pas*\n",
        "symétrique et par conséquent, on ne pourra jamais trouver d'expression\n",
        "mathématique (avec des `+`, des `-`, des `*` ou encore des\n",
        "`/`) du côté gauche d'une assignation, puisqu'elles ne constituent pas des noms de variables licites.\n",
        "\n",
        "\n"
      ]
    },
    {
      "cell_type": "code",
      "metadata": {
        "colab": {
          "base_uri": "https://localhost:8080/",
          "height": 200
        },
        "id": "bdHoJ04HLtdT",
        "outputId": "b9732075-fbcc-4135-8e7e-7d702ecd8815"
      },
      "source": [
        "# Mettez 42 dans la variable ma_variable\n",
        "\n",
        "\n",
        "\n",
        "print(ma_variable) # Cela devrait afficher 42 une fois la cellule complétée et exécutée"
      ],
      "execution_count": 1,
      "outputs": [
        {
          "output_type": "error",
          "ename": "NameError",
          "evalue": "ignored",
          "traceback": [
            "\u001b[0;31m---------------------------------------------------------------------------\u001b[0m",
            "\u001b[0;31mNameError\u001b[0m                                 Traceback (most recent call last)",
            "\u001b[0;32m<ipython-input-1-035168d135e5>\u001b[0m in \u001b[0;36m<module>\u001b[0;34m()\u001b[0m\n\u001b[1;32m      3\u001b[0m \u001b[0;34m\u001b[0m\u001b[0m\n\u001b[1;32m      4\u001b[0m \u001b[0;34m\u001b[0m\u001b[0m\n\u001b[0;32m----> 5\u001b[0;31m \u001b[0mprint\u001b[0m\u001b[0;34m(\u001b[0m\u001b[0mma_variable\u001b[0m\u001b[0;34m)\u001b[0m \u001b[0;31m# Cela devrait afficher 42 une fois la cellule complétée et exécutée\u001b[0m\u001b[0;34m\u001b[0m\u001b[0;34m\u001b[0m\u001b[0m\n\u001b[0m",
            "\u001b[0;31mNameError\u001b[0m: name 'ma_variable' is not defined"
          ]
        }
      ]
    },
    {
      "cell_type": "markdown",
      "metadata": {
        "id": "ycgooTLSLud0"
      },
      "source": [
        ""
      ]
    }
  ]
}